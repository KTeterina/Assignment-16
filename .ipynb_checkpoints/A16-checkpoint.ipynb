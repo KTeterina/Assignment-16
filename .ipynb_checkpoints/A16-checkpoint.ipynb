{
 "cells": [
  {
   "cell_type": "markdown",
   "id": "8b31444e-a0ed-429a-889f-5d0aaa4a9758",
   "metadata": {},
   "source": [
    "# Assignment 16"
   ]
  },
  {
   "cell_type": "code",
   "execution_count": 1,
   "id": "1aa6bd96-96c1-413c-b166-ef4ac6af4768",
   "metadata": {
    "collapsed": true,
    "jupyter": {
     "outputs_hidden": true
    },
    "tags": []
   },
   "outputs": [
    {
     "name": "stdout",
     "output_type": "stream",
     "text": [
      "Requirement already satisfied: ipython-sql in /opt/conda/lib/python3.10/site-packages (0.5.0)\n",
      "Requirement already satisfied: sqlalchemy>=2.0 in /opt/conda/lib/python3.10/site-packages (from ipython-sql) (2.0.7)\n",
      "Requirement already satisfied: ipython in /opt/conda/lib/python3.10/site-packages (from ipython-sql) (8.11.0)\n",
      "Requirement already satisfied: prettytable in /opt/conda/lib/python3.10/site-packages (from ipython-sql) (3.7.0)\n",
      "Requirement already satisfied: sqlparse in /opt/conda/lib/python3.10/site-packages (from ipython-sql) (0.4.4)\n",
      "Requirement already satisfied: six in /opt/conda/lib/python3.10/site-packages (from ipython-sql) (1.16.0)\n",
      "Requirement already satisfied: ipython-genutils in /opt/conda/lib/python3.10/site-packages (from ipython-sql) (0.2.0)\n",
      "Requirement already satisfied: greenlet!=0.4.17 in /opt/conda/lib/python3.10/site-packages (from sqlalchemy>=2.0->ipython-sql) (2.0.2)\n",
      "Requirement already satisfied: typing-extensions>=4.2.0 in /opt/conda/lib/python3.10/site-packages (from sqlalchemy>=2.0->ipython-sql) (4.5.0)\n",
      "Requirement already satisfied: pexpect>4.3 in /opt/conda/lib/python3.10/site-packages (from ipython->ipython-sql) (4.8.0)\n",
      "Requirement already satisfied: backcall in /opt/conda/lib/python3.10/site-packages (from ipython->ipython-sql) (0.2.0)\n",
      "Requirement already satisfied: traitlets>=5 in /opt/conda/lib/python3.10/site-packages (from ipython->ipython-sql) (5.9.0)\n",
      "Requirement already satisfied: prompt-toolkit!=3.0.37,<3.1.0,>=3.0.30 in /opt/conda/lib/python3.10/site-packages (from ipython->ipython-sql) (3.0.38)\n",
      "Requirement already satisfied: jedi>=0.16 in /opt/conda/lib/python3.10/site-packages (from ipython->ipython-sql) (0.18.2)\n",
      "Requirement already satisfied: decorator in /opt/conda/lib/python3.10/site-packages (from ipython->ipython-sql) (5.1.1)\n",
      "Requirement already satisfied: pygments>=2.4.0 in /opt/conda/lib/python3.10/site-packages (from ipython->ipython-sql) (2.14.0)\n",
      "Requirement already satisfied: stack-data in /opt/conda/lib/python3.10/site-packages (from ipython->ipython-sql) (0.6.2)\n",
      "Requirement already satisfied: pickleshare in /opt/conda/lib/python3.10/site-packages (from ipython->ipython-sql) (0.7.5)\n",
      "Requirement already satisfied: matplotlib-inline in /opt/conda/lib/python3.10/site-packages (from ipython->ipython-sql) (0.1.6)\n",
      "Requirement already satisfied: wcwidth in /opt/conda/lib/python3.10/site-packages (from prettytable->ipython-sql) (0.2.6)\n",
      "Requirement already satisfied: parso<0.9.0,>=0.8.0 in /opt/conda/lib/python3.10/site-packages (from jedi>=0.16->ipython->ipython-sql) (0.8.3)\n",
      "Requirement already satisfied: ptyprocess>=0.5 in /opt/conda/lib/python3.10/site-packages (from pexpect>4.3->ipython->ipython-sql) (0.7.0)\n",
      "Requirement already satisfied: pure-eval in /opt/conda/lib/python3.10/site-packages (from stack-data->ipython->ipython-sql) (0.2.2)\n",
      "Requirement already satisfied: executing>=1.2.0 in /opt/conda/lib/python3.10/site-packages (from stack-data->ipython->ipython-sql) (1.2.0)\n",
      "Requirement already satisfied: asttokens>=2.1.0 in /opt/conda/lib/python3.10/site-packages (from stack-data->ipython->ipython-sql) (2.2.1)\n",
      "\u001b[33mWARNING: There was an error checking the latest version of pip.\u001b[0m\u001b[33m\n",
      "\u001b[0mPOSTGRESQL_USER=reader\n",
      "POSTGRESQL_PASSWORD=Miba2021\n"
     ]
    }
   ],
   "source": [
    "!pip install ipython-sql\n",
    "\n",
    "%load_ext sql\n",
    "\n",
    "!env | grep POST\n",
    "\n",
    "import os\n",
    "USER = os.environ['POSTGRESQL_USER']\n",
    "PASSWORD = os.environ['POSTGRESQL_PASSWORD']\n",
    "POSTGRESQL_HOST = '10.129.0.25'\n",
    "DBASE_NAME = 'demo'\n",
    "\n",
    "CONNECT_DATA = 'postgresql://{}:{}@{}/{}'.format(\n",
    "    USER,\n",
    "    PASSWORD,\n",
    "    POSTGRESQL_HOST,\n",
    "    DBASE_NAME\n",
    ")"
   ]
  },
  {
   "cell_type": "markdown",
   "id": "eea7d20f-5785-4ac0-8900-5e5fb2235f0e",
   "metadata": {},
   "source": [
    "#1. Which fare conditions are available for flights from AER to SVO (i.e. from Adler/Sochi to Sheremetevo/Moscow)"
   ]
  },
  {
   "cell_type": "code",
   "execution_count": 2,
   "id": "a2ff8c27-c3b0-4a5b-adb1-ae47a09ecd60",
   "metadata": {
    "collapsed": true,
    "jupyter": {
     "outputs_hidden": true
    },
    "tags": []
   },
   "outputs": [
    {
     "name": "stdout",
     "output_type": "stream",
     "text": [
      "3 rows affected.\n"
     ]
    },
    {
     "data": {
      "text/html": [
       "<table>\n",
       "    <thead>\n",
       "        <tr>\n",
       "            <th>fare_conditions</th>\n",
       "        </tr>\n",
       "    </thead>\n",
       "    <tbody>\n",
       "        <tr>\n",
       "            <td>Business</td>\n",
       "        </tr>\n",
       "        <tr>\n",
       "            <td>Comfort</td>\n",
       "        </tr>\n",
       "        <tr>\n",
       "            <td>Economy</td>\n",
       "        </tr>\n",
       "    </tbody>\n",
       "</table>"
      ],
      "text/plain": [
       "[('Business',), ('Comfort',), ('Economy',)]"
      ]
     },
     "execution_count": 2,
     "metadata": {},
     "output_type": "execute_result"
    }
   ],
   "source": [
    "%%sql $CONNECT_DATA\n",
    "SELECT DISTINCT fare_conditions\n",
    "FROM seats, flights\n",
    "WHERE departure_airport = 'AER' AND arrival_airport = 'SVO'\n",
    "AND seats.aircraft_code = flights.aircraft_code"
   ]
  },
  {
   "cell_type": "markdown",
   "id": "b7672eaa-dfb1-44f3-bc3a-838d571d0eb2",
   "metadata": {},
   "source": [
    "2. A list of aircraft models which fly to the Yakutsk AND Abakan cities"
   ]
  },
  {
   "cell_type": "code",
   "execution_count": 20,
   "id": "bb33db69-69f6-4043-8d49-2308f7fce30e",
   "metadata": {
    "tags": []
   },
   "outputs": [
    {
     "name": "stdout",
     "output_type": "stream",
     "text": [
      "1 rows affected.\n"
     ]
    },
    {
     "data": {
      "text/html": [
       "<table>\n",
       "    <thead>\n",
       "        <tr>\n",
       "            <th>model</th>\n",
       "        </tr>\n",
       "    </thead>\n",
       "    <tbody>\n",
       "        <tr>\n",
       "            <td>Airbus A319-100</td>\n",
       "        </tr>\n",
       "    </tbody>\n",
       "</table>"
      ],
      "text/plain": [
       "[('Airbus A319-100',)]"
      ]
     },
     "execution_count": 20,
     "metadata": {},
     "output_type": "execute_result"
    }
   ],
   "source": [
    "%%sql $CONNECT_DATA\n",
    "Select model\n",
    "From aircrafts\n",
    "Where aircraft_code in (\n",
    "    Select aircraft_code\n",
    "    From flights\n",
    "    Where arrival_airport in (\n",
    "        Select airport_code\n",
    "        From airports\n",
    "        Where city='Yakutsk'))\n",
    "AND\n",
    "aircraft_code in (\n",
    "    Select aircraft_code\n",
    "    From flights\n",
    "    Where arrival_airport in (\n",
    "        Select airport_code\n",
    "        From airports\n",
    "        Where city='Abakan'))"
   ]
  },
  {
   "cell_type": "markdown",
   "id": "79688f70-c68c-48b0-b4cf-2a74bf0c0586",
   "metadata": {},
   "source": [
    "3. A list of aircraft models which fly to the Yakutsk OR Abakan cities"
   ]
  },
  {
   "cell_type": "code",
   "execution_count": 22,
   "id": "aa499443-476f-44a5-a36f-52246c4dbe45",
   "metadata": {
    "tags": []
   },
   "outputs": [
    {
     "name": "stdout",
     "output_type": "stream",
     "text": [
      "5 rows affected.\n"
     ]
    },
    {
     "data": {
      "text/html": [
       "<table>\n",
       "    <thead>\n",
       "        <tr>\n",
       "            <th>model</th>\n",
       "        </tr>\n",
       "    </thead>\n",
       "    <tbody>\n",
       "        <tr>\n",
       "            <td>Airbus A319-100</td>\n",
       "        </tr>\n",
       "        <tr>\n",
       "            <td>Cessna 208 Caravan</td>\n",
       "        </tr>\n",
       "        <tr>\n",
       "            <td>Bombardier CRJ-200</td>\n",
       "        </tr>\n",
       "        <tr>\n",
       "            <td>Boeing 737-300</td>\n",
       "        </tr>\n",
       "        <tr>\n",
       "            <td>Sukhoi Superjet-100</td>\n",
       "        </tr>\n",
       "    </tbody>\n",
       "</table>"
      ],
      "text/plain": [
       "[('Airbus A319-100',),\n",
       " ('Cessna 208 Caravan',),\n",
       " ('Bombardier CRJ-200',),\n",
       " ('Boeing 737-300',),\n",
       " ('Sukhoi Superjet-100',)]"
      ]
     },
     "execution_count": 22,
     "metadata": {},
     "output_type": "execute_result"
    }
   ],
   "source": [
    "%%sql $CONNECT_DATA\n",
    "Select model\n",
    "From aircrafts\n",
    "Where aircraft_code in (\n",
    "    Select aircraft_code\n",
    "    From flights\n",
    "    Where arrival_airport in (\n",
    "        Select airport_code\n",
    "        From airports\n",
    "        Where city='Yakutsk' OR city='Abakan'))"
   ]
  },
  {
   "cell_type": "markdown",
   "id": "55c76190-8930-4479-8a51-4dc1f6995c60",
   "metadata": {},
   "source": [
    "4. A list of aircrafts which DON’T fly to Yakutsk city"
   ]
  },
  {
   "cell_type": "code",
   "execution_count": 25,
   "id": "a3ffa595-2c10-4700-8252-f6eca5f24561",
   "metadata": {
    "tags": []
   },
   "outputs": [
    {
     "name": "stdout",
     "output_type": "stream",
     "text": [
      "9 rows affected.\n"
     ]
    },
    {
     "data": {
      "text/html": [
       "<table>\n",
       "    <thead>\n",
       "        <tr>\n",
       "            <th>aircraft_code</th>\n",
       "        </tr>\n",
       "    </thead>\n",
       "    <tbody>\n",
       "        <tr>\n",
       "            <td>CN1</td>\n",
       "        </tr>\n",
       "        <tr>\n",
       "            <td>320</td>\n",
       "        </tr>\n",
       "        <tr>\n",
       "            <td>CR2</td>\n",
       "        </tr>\n",
       "        <tr>\n",
       "            <td>763</td>\n",
       "        </tr>\n",
       "        <tr>\n",
       "            <td>773</td>\n",
       "        </tr>\n",
       "        <tr>\n",
       "            <td>319</td>\n",
       "        </tr>\n",
       "        <tr>\n",
       "            <td>733</td>\n",
       "        </tr>\n",
       "        <tr>\n",
       "            <td>321</td>\n",
       "        </tr>\n",
       "        <tr>\n",
       "            <td>SU9</td>\n",
       "        </tr>\n",
       "    </tbody>\n",
       "</table>"
      ],
      "text/plain": [
       "[('CN1',),\n",
       " ('320',),\n",
       " ('CR2',),\n",
       " ('763',),\n",
       " ('773',),\n",
       " ('319',),\n",
       " ('733',),\n",
       " ('321',),\n",
       " ('SU9',)]"
      ]
     },
     "execution_count": 25,
     "metadata": {},
     "output_type": "execute_result"
    }
   ],
   "source": [
    "%%sql $CONNECT_DATA\n",
    "Select Distinct aircraft_code\n",
    "From aircrafts, airports\n",
    "Where airports.city != 'Yakutsk'"
   ]
  },
  {
   "cell_type": "markdown",
   "id": "bd378f95-8fa0-4573-8cc1-c4e773bf28fe",
   "metadata": {},
   "source": [
    "5. Find out airport codes related to Mrs. 'ELLA DMITRIEVA' - from where and to where she flew."
   ]
  },
  {
   "cell_type": "code",
   "execution_count": 28,
   "id": "e0999668-fd79-4ad0-a2af-61d4e434947f",
   "metadata": {
    "tags": []
   },
   "outputs": [
    {
     "name": "stdout",
     "output_type": "stream",
     "text": [
      "7 rows affected.\n"
     ]
    },
    {
     "data": {
      "text/html": [
       "<table>\n",
       "    <thead>\n",
       "        <tr>\n",
       "            <th>passenger_name</th>\n",
       "            <th>departure_airport</th>\n",
       "            <th>arrival_airport</th>\n",
       "        </tr>\n",
       "    </thead>\n",
       "    <tbody>\n",
       "        <tr>\n",
       "            <td>ELLA DMITRIEVA</td>\n",
       "            <td>DME</td>\n",
       "            <td>UUS</td>\n",
       "        </tr>\n",
       "        <tr>\n",
       "            <td>ELLA DMITRIEVA</td>\n",
       "            <td>DME</td>\n",
       "            <td>HMA</td>\n",
       "        </tr>\n",
       "        <tr>\n",
       "            <td>ELLA DMITRIEVA</td>\n",
       "            <td>HMA</td>\n",
       "            <td>DME</td>\n",
       "        </tr>\n",
       "        <tr>\n",
       "            <td>ELLA DMITRIEVA</td>\n",
       "            <td>SVO</td>\n",
       "            <td>SVX</td>\n",
       "        </tr>\n",
       "        <tr>\n",
       "            <td>ELLA DMITRIEVA</td>\n",
       "            <td>SVX</td>\n",
       "            <td>SVO</td>\n",
       "        </tr>\n",
       "        <tr>\n",
       "            <td>ELLA DMITRIEVA</td>\n",
       "            <td>SVX</td>\n",
       "            <td>MQF</td>\n",
       "        </tr>\n",
       "        <tr>\n",
       "            <td>ELLA DMITRIEVA</td>\n",
       "            <td>MQF</td>\n",
       "            <td>SVX</td>\n",
       "        </tr>\n",
       "    </tbody>\n",
       "</table>"
      ],
      "text/plain": [
       "[('ELLA DMITRIEVA', 'DME', 'UUS'),\n",
       " ('ELLA DMITRIEVA', 'DME', 'HMA'),\n",
       " ('ELLA DMITRIEVA', 'HMA', 'DME'),\n",
       " ('ELLA DMITRIEVA', 'SVO', 'SVX'),\n",
       " ('ELLA DMITRIEVA', 'SVX', 'SVO'),\n",
       " ('ELLA DMITRIEVA', 'SVX', 'MQF'),\n",
       " ('ELLA DMITRIEVA', 'MQF', 'SVX')]"
      ]
     },
     "execution_count": 28,
     "metadata": {},
     "output_type": "execute_result"
    }
   ],
   "source": [
    "%%sql $CONNECT_DATA\n",
    "Select passenger_name, departure_airport, arrival_airport\n",
    "From tickets t, ticket_flights tf, flights f\n",
    "Where t.passenger_name = 'ELLA DMITRIEVA'\n",
    "AND t.ticket_no = tf.ticket_no\n",
    "AND tf.flight_id = f.flight_id"
   ]
  }
 ],
 "metadata": {
  "kernelspec": {
   "display_name": "Python 3 (ipykernel)",
   "language": "python",
   "name": "python3"
  },
  "language_info": {
   "codemirror_mode": {
    "name": "ipython",
    "version": 3
   },
   "file_extension": ".py",
   "mimetype": "text/x-python",
   "name": "python",
   "nbconvert_exporter": "python",
   "pygments_lexer": "ipython3",
   "version": "3.10.9"
  }
 },
 "nbformat": 4,
 "nbformat_minor": 5
}
